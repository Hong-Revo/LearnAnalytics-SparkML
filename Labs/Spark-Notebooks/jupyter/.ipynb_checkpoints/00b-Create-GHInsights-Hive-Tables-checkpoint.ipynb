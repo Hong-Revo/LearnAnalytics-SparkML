{
 "cells": [
  {
   "cell_type": "code",
   "execution_count": 1,
   "metadata": {
    "collapsed": false
   },
   "outputs": [
    {
     "name": "stdout",
     "output_type": "stream",
     "text": [
      "Starting Spark application\n"
     ]
    },
    {
     "data": {
      "text/html": [
       "<table>\n",
       "<tr><th>ID</th><th>YARN Application ID</th><th>Kind</th><th>State</th><th>Spark UI</th><th>Driver log</th><th>Current session?</th></tr><tr><td>2</td><td>application_1485637644503_0305</td><td>pyspark</td><td>idle</td><td><a target=\"_blank\" href=\"http://hn0-sparkt.cmrfjkkbzhnerls1gesmmcccaa.cx.internal.cloudapp.net:8088/proxy/application_1485637644503_0305/\">Link</a></td><td><a target=\"_blank\" href=\"http://10.0.0.7:30060/node/containerlogs/container_1485637644503_0305_01_000001/livy\">Link</a></td><td>✔</td></tr></table>"
      ],
      "text/plain": [
       "<IPython.core.display.HTML object>"
      ]
     },
     "metadata": {},
     "output_type": "display_data"
    },
    {
     "name": "stdout",
     "output_type": "stream",
     "text": [
      "SparkSession available as 'spark'.\n"
     ]
    }
   ],
   "source": [
    "%%sql\n",
    "SHOW TABLES"
   ]
  },
  {
   "cell_type": "code",
   "execution_count": 6,
   "metadata": {
    "collapsed": false
   },
   "outputs": [],
   "source": [
    "%%sql\n",
    "CREATE EXTERNAL TABLE commit(\n",
    "    CommitSha STRING,\n",
    "    Url STRING,\n",
    "    AuthorId INT,\n",
    "    AuthorLogin STRING,\n",
    "    AuthorSiteAdmin BOOLEAN,\n",
    "    AuthorType STRING,\n",
    "    CommitAuthorDate STRING,\n",
    "    CommitAuthorEmail STRING,\n",
    "    CommitAuthorName STRING,\n",
    "    CommitCommentCount INT,\n",
    "    CommitCommitterDate STRING,\n",
    "    CommitCommitterEmail STRING,\n",
    "    CommitComitterName STRING,\n",
    "    CommitCommitterMessage STRING,\n",
    "    CommitTreeSha STRING,\n",
    "    CommitterId INT,\n",
    "    CommitterLogin STRING,\n",
    "    CommitterSiteAdmin BOOLEAN,\n",
    "    CommitterType STRING,\n",
    "    StatsAdditions INT,\n",
    "    StatsDeletions INT,\n",
    "    StatsTotal INT,\n",
    "    ETLSourceId STRING)\n",
    "ROW FORMAT DELIMITED FIELDS TERMINATED BY '\\t' \n",
    "LOCATION \"adl://azadls.azuredatalakestore.net/ghinsightstables/Commit\""
   ]
  },
  {
   "cell_type": "code",
   "execution_count": 7,
   "metadata": {
    "collapsed": true
   },
   "outputs": [],
   "source": [
    "%%sql\n",
    "SHOW TABLES"
   ]
  },
  {
   "cell_type": "code",
   "execution_count": 2,
   "metadata": {
    "collapsed": true
   },
   "outputs": [],
   "source": [
    "%%sql\n",
    "select * from commit limit 10"
   ]
  },
  {
   "cell_type": "code",
   "execution_count": 7,
   "metadata": {
    "collapsed": true
   },
   "outputs": [],
   "source": [
    "%%sql\n",
    "\n",
    "CREATE EXTERNAL TABLE Users(\n",
    "    Login STRING,\n",
    "    UserId INT,\n",
    "    Bio STRING,\n",
    "    Blog STRING,\n",
    "    Company STRING,\n",
    "    CreatedAt STRING,\n",
    "    Email STRING,\n",
    "    Followers INT,\n",
    "    FollowingUsers INT,\n",
    "    Hireable BOOLEAN,\n",
    "    PublicGists INT,\n",
    "    PublicRepos INT,\n",
    "    SiteAdmin BOOLEAN,\n",
    "    Type STRING,\n",
    "    UpdatedAt STRING,\n",
    "    EtlSourceId STRING\n",
    "    )\n",
    "ROW FORMAT DELIMITED FIELDS TERMINATED BY '\\t' \n",
    "LOCATION \"adl://azadls.azuredatalakestore.net/ghinsightstables/User\""
   ]
  },
  {
   "cell_type": "code",
   "execution_count": 8,
   "metadata": {
    "collapsed": true
   },
   "outputs": [],
   "source": [
    "%%sql\n",
    "\n",
    "select * from users limit 10"
   ]
  },
  {
   "cell_type": "code",
   "execution_count": 9,
   "metadata": {
    "collapsed": true
   },
   "outputs": [],
   "source": [
    "%%sql\n",
    "\n",
    "select count(*) from users\n",
    "\n",
    "-- 19,393,899"
   ]
  },
  {
   "cell_type": "code",
   "execution_count": 10,
   "metadata": {
    "collapsed": true
   },
   "outputs": [],
   "source": [
    "%%sql\n",
    "\n",
    "DROP TABLE IF EXISTS PullRequestComment"
   ]
  },
  {
   "cell_type": "code",
   "execution_count": 11,
   "metadata": {
    "collapsed": true
   },
   "outputs": [],
   "source": [
    "%%sql\n",
    "\n",
    "CREATE EXTERNAL TABLE PullRequestComment(\n",
    "    Repo STRING,\n",
    "    Owner STRING,\n",
    "    PullRequestId INT,\n",
    "    PullRequestCommentId INT,\n",
    "    LinksHtmlHref STRING,\n",
    "    LinksPullRequestHref STRING,\n",
    "    LinksSelfHref STRING,\n",
    "    Body STRING,\n",
    "    CommitId STRING,\n",
    "    CreatedAt STRING,\n",
    "    DiffHunk STRING,\n",
    "    OriginalCommitId STRING,\n",
    "    OriginalPosition INT,\n",
    "    Path STRING,\n",
    "    Position INT,\n",
    "    UpdatedAt STRING,\n",
    "    UserId INT,\n",
    "    UserLogin STRING,\n",
    "    UserSiteAdmin BOOLEAN,\n",
    "    UserType STRING,\n",
    "    EtlSourceId STRING\n",
    "    )\n",
    "ROW FORMAT DELIMITED FIELDS TERMINATED BY '\\t' \n",
    "LOCATION \"adl://azadls.azuredatalakestore.net/ghinsightstables/PullRequestComment\""
   ]
  },
  {
   "cell_type": "code",
   "execution_count": 12,
   "metadata": {
    "collapsed": true
   },
   "outputs": [],
   "source": [
    "%%sql\n",
    "\n",
    "select * from PullRequestComment limit 10"
   ]
  },
  {
   "cell_type": "code",
   "execution_count": 13,
   "metadata": {
    "collapsed": false
   },
   "outputs": [],
   "source": [
    "%%sql\n",
    "select count(*) from PullRequestComment\n",
    "\n",
    "-- 7,090,736"
   ]
  },
  {
   "cell_type": "code",
   "execution_count": 16,
   "metadata": {
    "collapsed": false
   },
   "outputs": [],
   "source": [
    "%%sql\n",
    "\n",
    "DROP TABLE IF EXISTS commitcomment"
   ]
  },
  {
   "cell_type": "code",
   "execution_count": 17,
   "metadata": {
    "collapsed": false
   },
   "outputs": [],
   "source": [
    "%%sql\n",
    "\n",
    "CREATE EXTERNAL TABLE commitcomment(\n",
    "    CommitSha STRING,\n",
    "    CommitCommentId INT,\n",
    "    Body STRING,\n",
    "    CreatedAt STRING,\n",
    "    Line INT,\n",
    "    Path STRING,\n",
    "    Position INT,\n",
    "    UpdatedAt STRING,\n",
    "    UserId INT,\n",
    "    UserLogin STRING,\n",
    "    UserSiteAdmin BOOLEAN,\n",
    "    UserType STRING,\n",
    "    EtlSourceId STRING)\n",
    "ROW FORMAT DELIMITED FIELDS TERMINATED BY '\\t' \n",
    "LOCATION \"adl://azadls.azuredatalakestore.net/ghinsightstables/CommitComment\""
   ]
  },
  {
   "cell_type": "code",
   "execution_count": 19,
   "metadata": {
    "collapsed": true
   },
   "outputs": [],
   "source": [
    "%%sql\n",
    "\n",
    "select * from commitcomment limit 10"
   ]
  },
  {
   "cell_type": "code",
   "execution_count": 18,
   "metadata": {
    "collapsed": true
   },
   "outputs": [],
   "source": [
    "%%sql\n",
    "\n",
    "select count(*) from commitcomment\n",
    "\n",
    "-- 1,573,323"
   ]
  },
  {
   "cell_type": "code",
   "execution_count": null,
   "metadata": {
    "collapsed": true
   },
   "outputs": [],
   "source": [
    "%%sql\n",
    "\n",
    "DROP TABLE IF EXISTS PullRequest;"
   ]
  },
  {
   "cell_type": "code",
   "execution_count": 21,
   "metadata": {
    "collapsed": false
   },
   "outputs": [],
   "source": [
    "%%sql\n",
    "\n",
    "CREATE EXTERNAL TABLE PullRequest(\n",
    "    Repo STRING,\n",
    "    Owner STRING,\n",
    "    Number INT,\n",
    "    PullRequestId INT,\n",
    "    LinksCommentsHref STRING,\n",
    "    LinksCommitsHref STRING,\n",
    "    LinksHtmlHref STRING,\n",
    "    LinksIssueHref STRING,\n",
    "    LinksReviewCommentHref STRING,\n",
    "    LinksReviewCommentsHref STRING,\n",
    "    LinksSelfHref STRING,\n",
    "    LinksStatusesHref STRING,\n",
    "    Additions INT,\n",
    "    AssigneeId INT,\n",
    "    AssigneeLogin STRING,\n",
    "    AssigneeSiteAdmin BOOLEAN,\n",
    "    AssigneeType STRING,\n",
    "    BaseLabel STRING,\n",
    "    BaseRef STRING,\n",
    "    BaseRepoCreatedAt STRING,\n",
    "    BaseRepoDefaultBranch STRING,\n",
    "    BaseRepoDescription STRING,\n",
    "    BaseRepoFork BOOLEAN,\n",
    "    BaseRepoForks INT,\n",
    "    BaseRepoForksCount INT,\n",
    "    BaseRepoFullName STRING,\n",
    "    BaseRepoHasDownloads BOOLEAN,\n",
    "    BaseRepoHasIssues BOOLEAN,\n",
    "    BaseRepoHasPages BOOLEAN,\n",
    "    BaseRepoHasWiki BOOLEAN,\n",
    "    BaseRepoHomepage STRING,\n",
    "    BaseRepoId INT,\n",
    "    BaseRepoLanguage STRING,\n",
    "    BaseRepoName STRING,\n",
    "    BaseRepoOpenIssues INT,\n",
    "    BaseRepoOpenIssuesCount INT,\n",
    "    BaseRepoOwnerId INT,\n",
    "    BaseRepoOwnerLogin STRING,\n",
    "    BaseRepoOwnerSiteAdmin BOOLEAN,\n",
    "    BaseRepoOwnerType STRING,\n",
    "    BaseRepoPrivate BOOLEAN,\n",
    "    BaseRepoPushedAt STRING,\n",
    "    BaseRepoSize INT,\n",
    "    BaseRepoStargazersCount INT,\n",
    "    BaseRepoUpdatedAt STRING,\n",
    "    BaseRepoWatchers INT,\n",
    "    BaseRepoWatchersCount INT,\n",
    "    BaseSha STRING,\n",
    "    BaseUserId INT,\n",
    "    BaseUserLogin STRING,\n",
    "    BaseUserSiteAdmin BOOLEAN,\n",
    "    BaseUserType STRING,\n",
    "    Body STRING,\n",
    "    ChangedFiles INT,\n",
    "    ClosedAt STRING,\n",
    "    Comments INT,\n",
    "    Commits INT,\n",
    "    CreatedAt STRING,\n",
    "    Deletions INT,\n",
    "    HeadLabel STRING,\n",
    "    HeadRef STRING,\n",
    "    HeadRepoCreatedAt STRING,\n",
    "    HeadRepoDefaultBranch STRING,\n",
    "    HeadRepoDescription STRING,\n",
    "    HeadRepoFork BOOLEAN,\n",
    "    HeadRepoForks INT,\n",
    "    HeadRepoForksCount INT,\n",
    "    HeadRepoFullName STRING,\n",
    "    HeadRepoHasDownloads BOOLEAN,\n",
    "    HeadRepoHasIssues BOOLEAN,\n",
    "    HeadRepoHasPages BOOLEAN,\n",
    "    HeadRepoHasWiki BOOLEAN,\n",
    "    HeadRepoHomepage STRING,\n",
    "    HeadRepoId INT,\n",
    "    HeadRepoLanguage STRING,\n",
    "    HeadRepoName STRING,\n",
    "    HeadRepoOpenIssues INT,\n",
    "    HeadRepoOpenIssuesCount INT,\n",
    "    HeadRepoOwnerId INT,\n",
    "    HeadRepoOwnerLogin STRING,\n",
    "    HeadRepoOwnerSiteAdmin BOOLEAN,\n",
    "    HeadRepoOwnerType STRING,\n",
    "    HeadRepoPrivate BOOLEAN,\n",
    "    HeadRepoPushedAt STRING,\n",
    "    HeadRepoSize INT,\n",
    "    HeadRepoStargazersCount INT,\n",
    "    HeadRepoUpdatedAt STRING,\n",
    "    HeadRepoWatchers INT,\n",
    "    HeadRepoWatchersCount INT,\n",
    "    HeadSha STRING,\n",
    "    HeadUserId INT,\n",
    "    HeadUserLogin STRING,\n",
    "    HeadUserSiteAdmin BOOLEAN,\n",
    "    HeadUserType STRING,\n",
    "    Locked BOOLEAN,\n",
    "    MergeCommitSha STRING,\n",
    "    Mergeable BOOLEAN,\n",
    "    MergeableState STRING,\n",
    "    Merged BOOLEAN,\n",
    "    MergedAt STRING,\n",
    "    MergedById INT,\n",
    "    MergedByLogin STRING,\n",
    "    MergedBySiteAdmin BOOLEAN,\n",
    "    MergedByType STRING,\n",
    "    MilestoneClosedAt STRING,\n",
    "    MilestoneClosedIssues INT,\n",
    "    MilestoneCreatedAt STRING,\n",
    "    MilestoneCreatorId INT,\n",
    "    MilestoneCreatorLogin STRING,\n",
    "    MilestoneCreatorSiteAdmin BOOLEAN,\n",
    "    MilestoneCreatorType STRING,\n",
    "    MilestoneDescription STRING,\n",
    "    MilestoneDueOn STRING,\n",
    "    MilestoneId INT,\n",
    "    MilestoneNumber INT,\n",
    "    MilestoneOpenIssues INT,\n",
    "    MilestoneState STRING,\n",
    "    MilestoneTitle STRING,\n",
    "    MilestoneUpdatedAt STRING,\n",
    "    ReviewComments INT,\n",
    "    State STRING,\n",
    "    Title STRING,\n",
    "    UpdatedAt STRING,\n",
    "    UserId INT,\n",
    "    UserLogin STRING,\n",
    "    UserSiteAdmin BOOLEAN,\n",
    "    UserType STRING,\n",
    "    EtlSourceId STRING\n",
    ")\n",
    "ROW FORMAT DELIMITED FIELDS TERMINATED BY '\\t' \n",
    "LOCATION \"adl://azadls.azuredatalakestore.net/ghinsightstables/PullRequest\""
   ]
  },
  {
   "cell_type": "code",
   "execution_count": 22,
   "metadata": {
    "collapsed": true
   },
   "outputs": [],
   "source": [
    "%%sql\n",
    "\n",
    "select * from pullrequest limit 10"
   ]
  },
  {
   "cell_type": "code",
   "execution_count": 23,
   "metadata": {
    "collapsed": true
   },
   "outputs": [],
   "source": [
    "%%sql\n",
    "\n",
    "select count(*) from commitcomment"
   ]
  },
  {
   "cell_type": "code",
   "execution_count": 9,
   "metadata": {
    "collapsed": true
   },
   "outputs": [],
   "source": [
    "commit_df = spark.table(\"commit\")"
   ]
  },
  {
   "cell_type": "code",
   "execution_count": 10,
   "metadata": {
    "collapsed": false
   },
   "outputs": [
    {
     "name": "stdout",
     "output_type": "stream",
     "text": [
      "DataFrame[commitsha: string, url: string, authorid: int, authorlogin: string, authorsiteadmin: boolean, authortype: string, commitauthordate: string, commitauthoremail: string, commitauthorname: string, commitcommentcount: int, commitcommitterdate: string, commitcommitteremail: string, commitcomittername: string, commitcommittermessage: string, committreesha: string, committerid: int, committerlogin: string, committersiteadmin: boolean, committertype: string, statsadditions: int, statsdeletions: int, statstotal: int, etlsourceid: string]"
     ]
    }
   ],
   "source": [
    "commit_df"
   ]
  },
  {
   "cell_type": "code",
   "execution_count": 11,
   "metadata": {
    "collapsed": false
   },
   "outputs": [
    {
     "name": "stdout",
     "output_type": "stream",
     "text": [
      "root\n",
      " |-- commitsha: string (nullable = true)\n",
      " |-- url: string (nullable = true)\n",
      " |-- authorid: integer (nullable = true)\n",
      " |-- authorlogin: string (nullable = true)\n",
      " |-- authorsiteadmin: boolean (nullable = true)\n",
      " |-- authortype: string (nullable = true)\n",
      " |-- commitauthordate: string (nullable = true)\n",
      " |-- commitauthoremail: string (nullable = true)\n",
      " |-- commitauthorname: string (nullable = true)\n",
      " |-- commitcommentcount: integer (nullable = true)\n",
      " |-- commitcommitterdate: string (nullable = true)\n",
      " |-- commitcommitteremail: string (nullable = true)\n",
      " |-- commitcomittername: string (nullable = true)\n",
      " |-- commitcommittermessage: string (nullable = true)\n",
      " |-- committreesha: string (nullable = true)\n",
      " |-- committerid: integer (nullable = true)\n",
      " |-- committerlogin: string (nullable = true)\n",
      " |-- committersiteadmin: boolean (nullable = true)\n",
      " |-- committertype: string (nullable = true)\n",
      " |-- statsadditions: integer (nullable = true)\n",
      " |-- statsdeletions: integer (nullable = true)\n",
      " |-- statstotal: integer (nullable = true)\n",
      " |-- etlsourceid: string (nullable = true)"
     ]
    }
   ],
   "source": [
    "commit_df.printSchema()"
   ]
  },
  {
   "cell_type": "code",
   "execution_count": 12,
   "metadata": {
    "collapsed": false
   },
   "outputs": [
    {
     "name": "stdout",
     "output_type": "stream",
     "text": [
      "+--------------+\n",
      "|statsadditions|\n",
      "+--------------+\n",
      "|           476|\n",
      "|            13|\n",
      "|             2|\n",
      "|             0|\n",
      "|            38|\n",
      "|             1|\n",
      "|            41|\n",
      "|             9|\n",
      "|             2|\n",
      "|             1|\n",
      "|            46|\n",
      "|             0|\n",
      "|             0|\n",
      "|           532|\n",
      "|             1|\n",
      "|          3387|\n",
      "|             1|\n",
      "|             7|\n",
      "|             0|\n",
      "|             0|\n",
      "+--------------+\n",
      "only showing top 20 rows"
     ]
    }
   ],
   "source": [
    "commit_df.select(\"statsadditions\").show()"
   ]
  },
  {
   "cell_type": "code",
   "execution_count": 13,
   "metadata": {
    "collapsed": false
   },
   "outputs": [
    {
     "name": "stdout",
     "output_type": "stream",
     "text": [
      "+--------------------+-----+\n",
      "|       committertype|count|\n",
      "+--------------------+-----+\n",
      "|           \"lelukas\"|    2|\n",
      "|(sh_pseudo_regist...|    1|\n",
      "|   filename\\n  16940|    1|\n",
      "|deleted:    lms/s...|    1|\n",
      "|.metadata/.plugin...|    1|\n",
      "|\"20ad7b59c35bfe5e...|    1|\n",
      "|(vcondu<mode><mod...|    1|\n",
      "|\"e9d29fc6d71da81a...|    5|\n",
      "|new file:   Image...|    1|\n",
      "|         \"rc420head\"|   17|\n",
      "|(cst1 >> count) >...|    1|\n",
      "|chmod a+rwx /mnt/...|    4|\n",
      "|            17039813|    2|\n",
      "|                  - |   39|\n",
      "|      \"borntobelazy\"|    1|\n",
      "|modified:   c/c-e...|    1|\n",
      "|\"c2e07c6c774f2937...|    1|\n",
      "|\"bd9e4b9831699207...|    1|\n",
      "|       0m0.000s\\nsys|  101|\n",
      "|\"28211b44460e6c36...|    1|\n",
      "+--------------------+-----+\n",
      "only showing top 20 rows"
     ]
    }
   ],
   "source": [
    "commit_df.groupBy(\"committertype\").count().show()"
   ]
  },
  {
   "cell_type": "code",
   "execution_count": 14,
   "metadata": {
    "collapsed": false
   },
   "outputs": [
    {
     "name": "stdout",
     "output_type": "stream",
     "text": [
      "Row(commitsha=u'\"00000040d53bc9e84afba3e245aaf48d0a17100d\"', url=u'\"https://api.github.com/repos/awentzonline/gym-qbrush/commits/00000040d53bc9e84afba3e245aaf48d0a17100d\"', authorid=5231065, authorlogin=u'\"awentzonline\"', authorsiteadmin=False, authortype=u'\"User\"', commitauthordate=u'2017-01-16T07:07:52.0000000', commitauthoremail=u'\"67851f0a76b49e86f4e7c874463460356035a8cb196b20518bb9c9302ac0f2b5@dollarshaveclub.com\"', commitauthorname=u'\"Adam Wentz\"', commitcommentcount=0, commitcommitterdate=u'2017-01-16T07:07:52.0000000', commitcommitteremail=u'\"67851f0a76b49e86f4e7c874463460356035a8cb196b20518bb9c9302ac0f2b5@dollarshaveclub.com\"', commitcomittername=u'\"Adam Wentz\"', commitcommittermessage=u'\"gym yarp brush\"', committreesha=u'\"e7c7b79f4f6042ea8bb12e85d8d02d844481f8f9\"', committerid=5231065, committerlogin=u'\"awentzonline\"', committersiteadmin=False, committertype=u'\"User\"', statsadditions=476, statsdeletions=0, statstotal=476, etlsourceid=u'\"WHx4NGSA/Q0r8XlQ\"')"
     ]
    }
   ],
   "source": [
    "commit_df.head()"
   ]
  }
 ],
 "metadata": {
  "kernelspec": {
   "display_name": "PySpark",
   "language": "",
   "name": "pysparkkernel"
  },
  "language_info": {
   "codemirror_mode": {
    "name": "python",
    "version": 2
   },
   "mimetype": "text/x-python",
   "name": "pyspark",
   "pygments_lexer": "python2"
  },
  "widgets": {
   "state": {
    "0897cbfae06e4b56af800bf0644f0e0e": {
     "views": [
      {
       "cell_index": 14
      }
     ]
    },
    "0ccc404bffe746909f304f75938e2e48": {
     "views": [
      {
       "cell_index": 14
      }
     ]
    },
    "0d87bb6d511e4ffea20f42a93c7ee908": {
     "views": [
      {
       "cell_index": 17
      }
     ]
    },
    "1375d02078814fb49c4d635e1588cc9e": {
     "views": [
      {
       "cell_index": 4
      }
     ]
    },
    "17a3edd70676457aa728dc7e7820cc16": {
     "views": [
      {
       "cell_index": 6
      }
     ]
    },
    "1a3e0d19e4b144e5861397e98d2c130b": {
     "views": [
      {
       "cell_index": 7
      }
     ]
    },
    "1ca45aaadd314f21984f7dc2be461c00": {
     "views": [
      {
       "cell_index": 8
      }
     ]
    },
    "21b94f44771f4edda8fb087ffa918460": {
     "views": [
      {
       "cell_index": 12
      }
     ]
    },
    "371a5ea61e174c498a374d6d2fc60d3d": {
     "views": [
      {
       "cell_index": 3
      }
     ]
    },
    "3fcd609af59c4ce4bda215df8bf443f4": {
     "views": [
      {
       "cell_index": 9
      }
     ]
    },
    "414db64dbccd446387ce08934ad67e30": {
     "views": [
      {
       "cell_index": 7
      }
     ]
    },
    "55adac9873694bcfae72d26f7e327dd9": {
     "views": [
      {
       "cell_index": 0
      }
     ]
    },
    "586b64c8e58642f485ea769a9d35bee2": {
     "views": [
      {
       "cell_index": 16
      }
     ]
    },
    "64d1a442a46149759dea805bdc764ba2": {
     "views": [
      {
       "cell_index": 5
      }
     ]
    },
    "6d46b92cfe2f4ed9930277db10d002c0": {
     "views": [
      {
       "cell_index": 6
      }
     ]
    },
    "82c871f87148451f98a1ab2dbc322fbf": {
     "views": [
      {
       "cell_index": 10
      }
     ]
    },
    "86e0c30c7ef24afdbfa74c7ee5920c78": {
     "views": [
      {
       "cell_index": 8
      }
     ]
    },
    "8d12bc68a99e40399d26cdb2d75e054e": {
     "views": [
      {
       "cell_index": 16
      }
     ]
    },
    "a148efacb26e461ba7b18252267a0c0a": {
     "views": [
      {
       "cell_index": 4
      }
     ]
    },
    "a65a0db941384260954ab905cfd81139": {
     "views": [
      {
       "cell_index": 12
      }
     ]
    },
    "aad56f60917c4887bf879b13d05bf02a": {
     "views": [
      {
       "cell_index": 5
      }
     ]
    },
    "ab23f7d9364643d3bfdfb292e7478ef0": {
     "views": [
      {
       "cell_index": 0
      }
     ]
    },
    "be2e24a731944f52b30cf26d55f9b586": {
     "views": [
      {
       "cell_index": 4
      }
     ]
    },
    "beddbd8af3bc439c90451eb402ad06ec": {
     "views": [
      {
       "cell_index": 11
      }
     ]
    },
    "c966dc56223245c5b7d91bf704a47932": {
     "views": [
      {
       "cell_index": 13
      }
     ]
    },
    "d8b55d059b1149418257a3208eed4715": {
     "views": [
      {
       "cell_index": 3
      }
     ]
    },
    "d90a7bb3526240c797b8a8363d3aff36": {
     "views": [
      {
       "cell_index": 17
      }
     ]
    },
    "de91dc8e56144b49a8e24cfd1ff82694": {
     "views": [
      {
       "cell_index": 10
      }
     ]
    },
    "e7bf8a8b3e6c46d1b691fe6a341a6a87": {
     "views": [
      {
       "cell_index": 16
      }
     ]
    },
    "e815a664e1bf4adaa245d75e0964ae9f": {
     "views": [
      {
       "cell_index": 11
      }
     ]
    },
    "eabb7e1b5fb84d1ca2e6a5dbc41f93dc": {
     "views": [
      {
       "cell_index": 18
      }
     ]
    },
    "eb5579f94cfc490ea39202df1c4c91b4": {
     "views": [
      {
       "cell_index": 18
      }
     ]
    },
    "ede884e1a04a4ad09a1523d1db3f8452": {
     "views": [
      {
       "cell_index": 9
      }
     ]
    },
    "efca5928e72f471d8a267a6de3324d03": {
     "views": [
      {
       "cell_index": 11
      }
     ]
    },
    "f01884551ef946e5a3c2e4dd3c20a20a": {
     "views": [
      {
       "cell_index": 7
      }
     ]
    },
    "f1a0db57070145b4bbaf7f9911c0124e": {
     "views": [
      {
       "cell_index": 13
      }
     ]
    },
    "f91a323efdde4dccbcf2e1421c6faf1e": {
     "views": [
      {
       "cell_index": 8
      }
     ]
    },
    "fca667d28b1f418785fbf57686d2f2b2": {
     "views": [
      {
       "cell_index": 12
      }
     ]
    }
   },
   "version": "1.2.0"
  }
 },
 "nbformat": 4,
 "nbformat_minor": 1
}
