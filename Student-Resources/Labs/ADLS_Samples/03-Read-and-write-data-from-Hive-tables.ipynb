{
 "cells": [
  {
   "cell_type": "markdown",
   "metadata": {},
   "source": [
    "# Working with Hive tables using Spark\n",
    "\n",
    "You can use the Spark execution engine to run Hive queries. In this notebook, you look at examples on how to read data from a Hive table and how to write data back into a Hive table."
   ]
  },
  {
   "cell_type": "markdown",
   "metadata": {},
   "source": [
    "----------\n",
    "## Notebook setup\n",
    "\n",
    "When using PySpark kernel notebooks on HDInsight, there is no need to create a SparkContext or a SparkSession; a SparkSession which has the SparkContext is created for you automatically when you run the first code cell, and you'll be able to see the progress printed. The contexts are created with the following variable names:\n",
    "- SparkSession (spark)\n",
    "\n",
    "To run the cells below, place the cursor in the cell and then press **SHIFT + ENTER**."
   ]
  },
  {
   "cell_type": "markdown",
   "metadata": {},
   "source": [
    "-----\n",
    "## Reading data from Hive\n",
    "\n",
    "To start with, let's first see what we have in our Hive store. Run the snippet below. At a minimum this should return a table called **hivesampletable**. hivesampletable is a default table that is included with the Spark HDInsight cluster."
   ]
  },
  {
   "cell_type": "code",
   "execution_count": 1,
   "metadata": {
    "collapsed": false
   },
   "outputs": [
    {
     "name": "stdout",
     "output_type": "stream",
     "text": [
      "Starting Spark application\n"
     ]
    },
    {
     "data": {
      "text/html": [
       "<table>\n",
       "<tr><th>ID</th><th>YARN Application ID</th><th>Kind</th><th>State</th><th>Spark UI</th><th>Driver log</th><th>Current session?</th></tr><tr><td>1</td><td>application_1485572452225_0002</td><td>pyspark</td><td>idle</td><td><a target=\"_blank\" href=\"http://hn1-azrspa.hir1mw2rdrdufdtjzswtn4lgih.gx.internal.cloudapp.net:8088/proxy/application_1485572452225_0002/\">Link</a></td><td><a target=\"_blank\" href=\"http://10.0.0.15:30060/node/containerlogs/container_e01_1485572452225_0002_01_000001/livy\">Link</a></td><td>✔</td></tr></table>"
      ],
      "text/plain": [
       "<IPython.core.display.HTML object>"
      ]
     },
     "metadata": {},
     "output_type": "display_data"
    },
    {
     "name": "stdout",
     "output_type": "stream",
     "text": [
      "SparkSession available as 'spark'.\n"
     ]
    }
   ],
   "source": [
    "%%sql\n",
    "SHOW TABLES"
   ]
  },
  {
   "cell_type": "markdown",
   "metadata": {},
   "source": [
    "You can then create dataframe from the `hivesampletable`. The snippet below creates a dataframe that you can perform any dataframe operation on. This dataframe contains all the data in the `hivesampletable`."
   ]
  },
  {
   "cell_type": "code",
   "execution_count": null,
   "metadata": {
    "collapsed": false
   },
   "outputs": [],
   "source": [
    "# hivesampletabledf is a dataframe\n",
    "hivesampletabledf = spark.table('hivesampletable')"
   ]
  },
  {
   "cell_type": "markdown",
   "metadata": {},
   "source": [
    "Instead, if you want to run a query on the table and return only the results as a Spark dataframe, you can do so with the `.sql()` method. In the snippet below, **hivesampletablequerydf** is a dataframe that only contains the data returned by the SQL query."
   ]
  },
  {
   "cell_type": "code",
   "execution_count": null,
   "metadata": {
    "collapsed": false,
    "scrolled": true
   },
   "outputs": [],
   "source": [
    "hivesampletablequerydf = spark.sql(\"\"\"\n",
    "SELECT clientid, querytime, deviceplatform, querydwelltime \n",
    "FROM hivesampletable \n",
    "WHERE state = 'Washington' AND devicemake = 'Microsoft' AND querydwelltime > 15\n",
    "\"\"\")\n",
    "hivesampletablequerydf.show()"
   ]
  },
  {
   "cell_type": "markdown",
   "metadata": {},
   "source": [
    "-------------\n",
    "## Writing data into Hive\n",
    "\n",
    "If you have a dataframe that was created with a SparkSession and you want to persist that data to Hive, you can create a table and then insert the dataframe into the table: "
   ]
  },
  {
   "cell_type": "code",
   "execution_count": null,
   "metadata": {
    "collapsed": false
   },
   "outputs": [],
   "source": [
    "%%sql -q\n",
    "CREATE TABLE IF NOT EXISTS hivesampletablecopypy ( \n",
    "                    clientid string, \n",
    "                    querytime string, \n",
    "                    market string, \n",
    "                    deviceplatform string,\n",
    "                    devicemake string,\n",
    "                    devicemodel string,\n",
    "                    state string, \n",
    "                    country string,\n",
    "                    querydwelltime double,\n",
    "                    sessionid bigint,\n",
    "                    sessionpagevieworder bigint )"
   ]
  },
  {
   "cell_type": "code",
   "execution_count": null,
   "metadata": {
    "collapsed": false
   },
   "outputs": [],
   "source": [
    "from pyspark.sql import DataFrameWriter\n",
    "\n",
    "dfw = DataFrameWriter(hivesampletabledf)\n",
    "dfw.insertInto('hivesampletablecopypy', overwrite=True)"
   ]
  },
  {
   "cell_type": "markdown",
   "metadata": {},
   "source": [
    "Call `dfw.insertInto('hivesampletablecopy', overwrite=False)` to keep any data already in the table."
   ]
  }
 ],
 "metadata": {
  "kernelspec": {
   "display_name": "PySpark",
   "language": "",
   "name": "pysparkkernel"
  },
  "language_info": {
   "codemirror_mode": {
    "name": "python",
    "version": 2
   },
   "mimetype": "text/x-python",
   "name": "pyspark",
   "pygments_lexer": "python2"
  },
  "widgets": {
   "state": {
    "3c52cd3f0cf6437e9f760a7a4569c9b6": {
     "views": [
      {
       "cell_index": 3
      }
     ]
    },
    "5a42a200aa3348b59c89b4bfc94f9762": {
     "views": [
      {
       "cell_index": 3
      }
     ]
    }
   },
   "version": "1.2.0"
  }
 },
 "nbformat": 4,
 "nbformat_minor": 0
}
